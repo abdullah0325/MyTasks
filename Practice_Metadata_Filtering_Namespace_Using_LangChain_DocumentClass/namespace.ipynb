{
 "cells": [
  {
   "cell_type": "code",
   "execution_count": null,
   "metadata": {},
   "outputs": [
    {
     "name": "stderr",
     "output_type": "stream",
     "text": [
      "c:\\Users\\Smart Computer\\anaconda3\\envs\\myenv\\Lib\\site-packages\\pinecone\\data\\index.py:1: TqdmWarning: IProgress not found. Please update jupyter and ipywidgets. See https://ipywidgets.readthedocs.io/en/stable/user_install.html\n",
      "  from tqdm.autonotebook import tqdm\n"
     ]
    },
    {
     "name": "stdout",
     "output_type": "stream",
     "text": [
      "Text: Allama Iqbal was a great poet and philosopher., Author: Allama Iqbal, Year: 1930.0\n",
      "Text: Allama Iqbal was a great poet and philosopher., Author: Allama Iqbal, Year: 1930.0\n"
     ]
    }
   ],
   "source": [
    "\n",
    "import pinecone\n",
    "from pinecone import ServerlessSpec\n",
    "from sentence_transformers import SentenceTransformer\n",
    "import numpy as np\n",
    "import time\n",
    "\n",
    "# Initialize Pinecone with API key\n",
    "PINECONE_API_KEY = \"PINECONE_API_KEY\"\n",
    "pc = pinecone.Pinecone(api_key=PINECONE_API_KEY)\n",
    "index_name = \"meta-data\"\n",
    "index = pc.Index(index_name)\n",
    "# Load the sentence transformer model for creating embeddings\n",
    "model = SentenceTransformer('all-MiniLM-L6-v2')\n",
    "\n",
    "# Define different namespaces\n",
    "namespaces = {\n",
    "    \"quaid_azam\": [\n",
    "        {\"text\": \"Quaid-e-Azam was the founder of Pakistan.\", \"author\": \"Quaid-e-Azam\", \"year\": 1947}\n",
    "    ],\n",
    "    \"allama_iqbal\": [\n",
    "        {\"text\": \"Allama Iqbal was a great poet and philosopher.\", \"author\": \"Allama Iqbal\", \"year\": 1930}\n",
    "    ],\n",
    "    \"imran_khan\": [\n",
    "        {\"text\": \"Imran Khan led Pakistan to a World Cup victory in 1992.\", \"author\": \"Imran Khan\", \"year\": 1992}\n",
    "    ],\n",
    "    \"sir_sayyed\": [\n",
    "        {\"text\": \"Sir Syed Ahmad Khan was a reformer and educator.\", \"author\": \"Sir Syed Ahmad Khan\", \"year\": 1875}\n",
    "    ]\n",
    "}\n",
    "\n",
    "def store_data():\n",
    "    \"\"\"Stores data with metadata in Pinecone under different namespaces.\"\"\"\n",
    "    for namespace, items in namespaces.items():\n",
    "        for item in items:\n",
    "            embedding = model.encode(item[\"text\"]).astype(np.float32)\n",
    "            vector_id = str(abs(hash(item[\"text\"])))[:16]\n",
    "            metadata = {\"text\": item[\"text\"], \"author\": item[\"author\"], \"year\": item[\"year\"]}\n",
    "            index.upsert(vectors=[(vector_id, embedding.tolist(), metadata)], namespace=namespace)\n",
    "    return \"Data stored successfully.\"\n",
    "\n",
    "def filter_data(namespace):\n",
    "    \"\"\"Filters data based on namespace.\"\"\"\n",
    "    results = index.query(vector=[0] * 384, top_k=10, include_metadata=True, namespace=namespace)\n",
    "    return results\n",
    "\n",
    "if __name__ == \"__main__\":\n",
    "    store_data()\n",
    "    query_namespace = \"allama_iqbal\"  # Example namespace filter\n",
    "    filtered_results = filter_data(query_namespace)\n",
    "    for match in filtered_results.get(\"matches\", []):\n",
    "        print(f\"Text: {match['metadata']['text']}, Author: {match['metadata']['author']}, Year: {match['metadata']['year']}\")\n"
   ]
  }
 ],
 "metadata": {
  "kernelspec": {
   "display_name": "myenv",
   "language": "python",
   "name": "python3"
  },
  "language_info": {
   "codemirror_mode": {
    "name": "ipython",
    "version": 3
   },
   "file_extension": ".py",
   "mimetype": "text/x-python",
   "name": "python",
   "nbconvert_exporter": "python",
   "pygments_lexer": "ipython3",
   "version": "3.11.11"
  }
 },
 "nbformat": 4,
 "nbformat_minor": 2
}
